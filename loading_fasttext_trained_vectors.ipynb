{
  "nbformat": 4,
  "nbformat_minor": 0,
  "metadata": {
    "colab": {
      "name": "loading_fasttext_trained_vectors.ipynb",
      "provenance": [],
      "authorship_tag": "ABX9TyN3Uq7i3B4QGXOgrmHGaLpJ",
      "include_colab_link": true
    },
    "kernelspec": {
      "name": "python3",
      "display_name": "Python 3"
    },
    "language_info": {
      "name": "python"
    }
  },
  "cells": [
    {
      "cell_type": "markdown",
      "metadata": {
        "id": "view-in-github",
        "colab_type": "text"
      },
      "source": [
        "<a href=\"https://colab.research.google.com/github/andrewpkitchin/speciesism-in-everyday-language/blob/main/loading_fasttext_trained_vectors.ipynb\" target=\"_parent\"><img src=\"https://colab.research.google.com/assets/colab-badge.svg\" alt=\"Open In Colab\"/></a>"
      ]
    },
    {
      "cell_type": "code",
      "metadata": {
        "id": "QrZDUuTjmXzv"
      },
      "source": [
        "import re, numpy as np, csv"
      ],
      "execution_count": null,
      "outputs": []
    },
    {
      "cell_type": "code",
      "metadata": {
        "id": "gS5VFkdamt32"
      },
      "source": [
        "# This function takes the read in output of the fasttext model and returns the vector associated to a particular word. \n",
        "\n",
        "def vector(word, model_output):\n",
        "  wordRegex = re.compile(r'\\n{}\\s.*'.format(word))\n",
        "  \n",
        "  mo1 = wordRegex.search(model_output)\n",
        "  \n",
        "  sub_strings = re.split('\\s', mo1.group())\n",
        "\n",
        "  list_components = []\n",
        "\n",
        "  for i in range(2, len(sub_strings)-1):\n",
        "    list_components.append(float(sub_strings[i].strip()))\n",
        "\n",
        "  return np.array(list_components)"
      ],
      "execution_count": null,
      "outputs": []
    },
    {
      "cell_type": "code",
      "metadata": {
        "id": "8z5VW564mz4c"
      },
      "source": [
        "# This function takes a list and checks if the model contains an associated vector.\n",
        "\n",
        "def existence_checker(list_of_words, model_output):\n",
        "  missing = []\n",
        "  for i in range(0,len(list_of_words)): \n",
        "    try:\n",
        "      vector(list_of_words[i],model_output)\n",
        "    except AttributeError:\n",
        "      missing.append(list_of_words[i])\n",
        "  return missing"
      ],
      "execution_count": null,
      "outputs": []
    },
    {
      "cell_type": "code",
      "metadata": {
        "id": "VTVLfUwbnacG"
      },
      "source": [
        "def cosine_similarity(vec1,vec2):\n",
        "  return np.dot(vec1, vec2)/(np.linalg.norm(vec1)* np.linalg.norm(vec2))"
      ],
      "execution_count": null,
      "outputs": []
    },
    {
      "cell_type": "code",
      "metadata": {
        "id": "5_8MJzUHm6Tc"
      },
      "source": [
        "def cosines_to_csv(csv_name, list1, list2, model_output):\n",
        "  with open(csv_name, 'w', newline='') as file:\n",
        "    writer = csv.writer(file)\n",
        "\n",
        "    list2.insert(0, \"WORD\")\n",
        "\n",
        "    # Write the headings to the csv.\n",
        "    writer.writerow(list2)\n",
        "\n",
        "    list2.pop(0)\n",
        "\n",
        "    for word in list1:\n",
        "      listOfCosines = []\n",
        "      listOfCosines.append(word)\n",
        "      \n",
        "      for entity in list2:\n",
        "        try:\n",
        "          listOfCosines.append(cosine_similarity(vector(word,model_output),vector(entity,model_output)))\n",
        "        except KeyError:\n",
        "          listOfCosines.append('NA')\n",
        "        except AttributeError:\n",
        "          listOfCosines.append('NA')\n",
        "\n",
        "      # Writing the cosine scores to the csv.\n",
        "      writer.writerow(listOfCosines)"
      ],
      "execution_count": null,
      "outputs": []
    },
    {
      "cell_type": "code",
      "metadata": {
        "id": "rHP5yIAPnjKD"
      },
      "source": [
        "#Removing the missing words.\n",
        "\n",
        "final_word_list = [] \n",
        "\n",
        "def removing_missing_words(words, missing_words, final_word_list):\n",
        "  for word in words:\n",
        "    if word in missing_words:\n",
        "      pass\n",
        "    else:\n",
        "      final_word_list.append(word)\n",
        "\n",
        "  return final_word_list"
      ],
      "execution_count": null,
      "outputs": []
    },
    {
      "cell_type": "code",
      "metadata": {
        "id": "paCz6FN2n5yK"
      },
      "source": [
        "# example tv_and_film_one\n",
        "\n",
        "data = open(\"/content/tv_and_film_vectors.txt\", \"r\")\n",
        "model = data.read()"
      ],
      "execution_count": null,
      "outputs": []
    },
    {
      "cell_type": "code",
      "metadata": {
        "id": "acv2fkhCvUdT"
      },
      "source": [
        "humans_and_animals = ['human', 'humans', 'person', 'persons', 'peoples', 'people', 'adult', 'adults', 'teenager', 'teenagers', 'child', 'children', 'kid', 'kids', 'man', 'men', 'woman', 'women', 'lady', 'ladies', 'gentleman', 'gentlemen', 'boy', 'boys', 'girl', 'girls', 'guy', 'gal', 'baby', 'babies', 'infant', 'infants', 'toddler', 'toddlers', 'newborn', 'newborns', 'cat', 'cats', 'kitten', 'kittens', 'dog', 'dogs', 'puppy', 'puppies', 'horse', 'horses', 'dolphin', 'dolphins', 'chimp', 'chimps', 'bear', 'bears', 'kangaroo', 'kangaroo', 'chicken', 'chickens', 'chick', 'chicks', 'goat', 'goats', 'sheep', 'lamb', 'lambs', 'pig', 'pigs', 'turkey', 'turkeys', 'cow', 'cows', 'calf', 'calves', 'duck', 'ducks', 'snake', 'snakes', 'snail', 'snails', 'starfish', 'crocodile', 'crocodiles', 'bat', 'bats', 'frog', 'frogs']\n",
        "attributes = ['care', 'cares', 'caring', 'cared', 'concern', 'concerns', 'concerned', 'concerning', 'sympathy', 'sympathize', 'sympathetic', 'compassion', 'compassionate', 'apathy', 'uncaring', 'unconcerned', 'indifference', 'indifferent', 'disregard', 'disregarded', 'disregarding', 'value', 'valuable', 'valued', 'invaluable', 'important', 'importance', 'worth', 'precious', 'cherish', 'cherished', 'significant', 'valueless', 'worthless', 'insignificant', 'meritless', 'unimportant', 'unimportance', 'deficient', 'lacking', 'disfavored', 'useless'] "
      ],
      "execution_count": null,
      "outputs": []
    },
    {
      "cell_type": "code",
      "metadata": {
        "id": "6lztXewwoGst"
      },
      "source": [
        "cosines_to_csv('tv_and_film.csv', humans_and_animals, attributes, model)"
      ],
      "execution_count": null,
      "outputs": []
    }
  ]
}